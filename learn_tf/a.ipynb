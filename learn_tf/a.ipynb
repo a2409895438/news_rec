{
 "cells": [
  {
   "cell_type": "code",
   "execution_count": 2,
   "metadata": {},
   "outputs": [],
   "source": [
    "import tensorflow as tf\n",
    "\n",
    "# ----------- 准备\n",
    "unq_categories = [\"music\", \"movie\", \"finance\", \"game\", \"military\", \"history\"]\n",
    "# 这一层负责将string转化为int型id\n",
    "id_mapping_layer = tf.keras.layers.StringLookup(vocabulary=unq_categories)\n",
    "\n",
    "emb_layer = tf.keras.layers.Embedding(\n",
    "    # 多加一维是为了处理，当输入不包含在unq_categories的情况\n",
    "    input_dim=len(unq_categories) + 1,\n",
    "    output_dim=4)  # output_dim指明映射向量的长度"
   ]
  },
  {
   "cell_type": "code",
   "execution_count": 3,
   "metadata": {},
   "outputs": [],
   "source": [
    "# ----------- Embedding\n",
    "cate_input = [\"music\", \"movie\"]  # [batch_size,1]的string型\"文章分类\"向量\n",
    "cate_ids = id_mapping_layer(cate_input)  # string型输入的“文章分类”映射成int型id\n"
   ]
  },
  {
   "cell_type": "code",
   "execution_count": 6,
   "metadata": {},
   "outputs": [],
   "source": [
    "cate_embeddings = emb_layer(cate_ids)"
   ]
  },
  {
   "cell_type": "code",
   "execution_count": 7,
   "metadata": {},
   "outputs": [
    {
     "data": {
      "text/plain": [
       "<tf.Tensor: shape=(2, 4), dtype=float32, numpy=\n",
       "array([[-0.04506437,  0.00835569,  0.00836945, -0.03334794],\n",
       "       [ 0.03020823, -0.03062726,  0.0229771 , -0.01514376]],\n",
       "      dtype=float32)>"
      ]
     },
     "execution_count": 7,
     "metadata": {},
     "output_type": "execute_result"
    }
   ],
   "source": [
    "cate_embeddings"
   ]
  },
  {
   "cell_type": "code",
   "execution_count": 4,
   "metadata": {},
   "outputs": [
    {
     "name": "stdout",
     "output_type": "stream",
     "text": [
      "data:  tf.Tensor(\n",
      "[[1 2 3]\n",
      " [4 5 6]], shape=(2, 3), dtype=int32)\n",
      "res:  IndexedSlices(indices=[0], values=tf.Tensor(\n",
      "[[1 2 3]\n",
      " [4 5 6]], shape=(2, 3), dtype=int32))\n"
     ]
    }
   ],
   "source": [
    "# Importing the library\n",
    "import tensorflow as tf\n",
    "# Initializing the input\n",
    "data = tf.constant([[1, 2, 3], [4, 5, 6]])\n",
    "# Printing the input\n",
    "print('data: ', data)\n",
    "# Calculating result\n",
    "res = tf.IndexedSlices(data, [0])\n",
    "# Printing the result\n",
    "print('res: ', res)\n"
   ]
  },
  {
   "cell_type": "code",
   "execution_count": null,
   "metadata": {},
   "outputs": [],
   "source": []
  }
 ],
 "metadata": {
  "kernelspec": {
   "display_name": "base",
   "language": "python",
   "name": "python3"
  },
  "language_info": {
   "codemirror_mode": {
    "name": "ipython",
    "version": 3
   },
   "file_extension": ".py",
   "mimetype": "text/x-python",
   "name": "python",
   "nbconvert_exporter": "python",
   "pygments_lexer": "ipython3",
   "version": "3.9.7"
  }
 },
 "nbformat": 4,
 "nbformat_minor": 2
}
